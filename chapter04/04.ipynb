{
 "cells": [
  {
   "cell_type": "markdown",
   "metadata": {},
   "source": [
    "# 疎行列"
   ]
  },
  {
   "cell_type": "code",
   "execution_count": 2,
   "metadata": {},
   "outputs": [],
   "source": [
    "from scipy import sparse"
   ]
  },
  {
   "cell_type": "code",
   "execution_count": 3,
   "metadata": {},
   "outputs": [],
   "source": [
    "a = sparse.lil_matrix((4, 5))\n",
    "a[0, 1] = 1\n",
    "a[0, 3] = 2\n",
    "a[2, 2] = 3\n",
    "a[3, 4] = 4"
   ]
  },
  {
   "cell_type": "code",
   "execution_count": 5,
   "metadata": {},
   "outputs": [
    {
     "data": {
      "text/plain": [
       "array([[0., 1., 0., 2., 0.],\n",
       "       [0., 0., 0., 0., 0.],\n",
       "       [0., 0., 3., 0., 0.],\n",
       "       [0., 0., 0., 0., 4.]])"
      ]
     },
     "execution_count": 5,
     "metadata": {},
     "output_type": "execute_result"
    }
   ],
   "source": [
    "a.toarray()#通常の行列に変換"
   ]
  },
  {
   "cell_type": "code",
   "execution_count": 6,
   "metadata": {},
   "outputs": [
    {
     "data": {
      "text/plain": [
       "array([[0., 0., 1., 0.],\n",
       "       [0., 0., 2., 0.],\n",
       "       [0., 0., 0., 3.],\n",
       "       [0., 0., 0., 4.],\n",
       "       [0., 0., 0., 0.]])"
      ]
     },
     "execution_count": 6,
     "metadata": {},
     "output_type": "execute_result"
    }
   ],
   "source": [
    "b = sparse.lil_matrix((5, 4))\n",
    "b[0, 2] = 1\n",
    "b[1, 2] = 2\n",
    "b[2, 3] = 3\n",
    "b[3, 3] = 4\n",
    "b.toarray()"
   ]
  },
  {
   "cell_type": "code",
   "execution_count": 7,
   "metadata": {},
   "outputs": [
    {
     "data": {
      "text/plain": [
       "array([[0., 0., 2., 8.],\n",
       "       [0., 0., 0., 0.],\n",
       "       [0., 0., 0., 9.],\n",
       "       [0., 0., 0., 0.]])"
      ]
     },
     "execution_count": 7,
     "metadata": {},
     "output_type": "execute_result"
    }
   ],
   "source": [
    "c = a.dot(b)\n",
    "c.toarray()"
   ]
  },
  {
   "cell_type": "code",
   "execution_count": 10,
   "metadata": {},
   "outputs": [
    {
     "data": {
      "text/plain": [
       "array([[0., 0., 2., 8.],\n",
       "       [0., 0., 0., 0.],\n",
       "       [0., 0., 0., 9.],\n",
       "       [0., 0., 0., 0.]])"
      ]
     },
     "execution_count": 10,
     "metadata": {},
     "output_type": "execute_result"
    }
   ],
   "source": [
    "a1 = a.tocsr()\n",
    "b1 = b.tocsr()\n",
    "c1 = a1.dot(b1)\n",
    "c1.toarray()"
   ]
  },
  {
   "cell_type": "code",
   "execution_count": 12,
   "metadata": {},
   "outputs": [
    {
     "data": {
      "text/plain": [
       "array([[0., 0., 2., 8.],\n",
       "       [0., 0., 0., 0.],\n",
       "       [0., 0., 0., 9.],\n",
       "       [0., 0., 0., 0.]])"
      ]
     },
     "execution_count": 12,
     "metadata": {},
     "output_type": "execute_result"
    }
   ],
   "source": [
    "a2 = a.tocsc()\n",
    "b2 = b.tocsc()\n",
    "c2 = a2.dot(b2)\n",
    "c2.toarray()"
   ]
  },
  {
   "cell_type": "markdown",
   "metadata": {},
   "source": [
    ">lil_matrixでも計算できるがcsr, cscの方が計算速度の点で優っている。\n",
    "\n",
    "<br><br>\n",
    "\n",
    "疎行列を扱うときの一般的な流れは次のようになる。<br>\n",
    "\n",
    ">- lil_matrix型の変数を用意して、各要素に値を設定する。<br>\n",
    ">- 設定されたlil_matrixをcsr_matrixまたはcsc_matrixに変換する。<br>\n",
    ">- 変換された疎行列に対して計算をする。<br>\n",
    " \n",
    "<br>\n",
    "\n",
    "csr_matrixとcsc_matrixの違い<br>\n",
    ">- csr_matrixは行を取り出す操作が高速で、<br>\n",
    ">- csc_matrixは列を取り出す操作が高速。<br>"
   ]
  },
  {
   "cell_type": "code",
   "execution_count": 13,
   "metadata": {},
   "outputs": [
    {
     "name": "stdout",
     "output_type": "stream",
     "text": [
      "<class 'scipy.sparse.csr.csr_matrix'>\n",
      "<class 'scipy.sparse.csc.csc_matrix'>\n"
     ]
    }
   ],
   "source": [
    "#3つの型を使い分ける。\n",
    "a = sparse.lil_matrix((4, 4))\n",
    "a[0, 1] = 1\n",
    "a[1, 2] = 2\n",
    "a[2, 3] = 3\n",
    "a[3, 3] = 4\n",
    "a1 = a.tocsr()\n",
    "a2 = a.tocsc()\n",
    "print(type(a1))\n",
    "print(type(a2))"
   ]
  },
  {
   "cell_type": "code",
   "execution_count": 14,
   "metadata": {},
   "outputs": [
    {
     "data": {
      "text/plain": [
       "array([[0., 0., 2., 0.]])"
      ]
     },
     "execution_count": 14,
     "metadata": {},
     "output_type": "execute_result"
    }
   ],
   "source": [
    "b1 = a1.getrow(1)\n",
    "b1.toarray()"
   ]
  },
  {
   "cell_type": "code",
   "execution_count": 15,
   "metadata": {},
   "outputs": [
    {
     "data": {
      "text/plain": [
       "array([[0.],\n",
       "       [0.],\n",
       "       [3.],\n",
       "       [4.]])"
      ]
     },
     "execution_count": 15,
     "metadata": {},
     "output_type": "execute_result"
    }
   ],
   "source": [
    "b2 = a2.getcol(3)\n",
    "b2.toarray()"
   ]
  },
  {
   "cell_type": "code",
   "execution_count": 19,
   "metadata": {},
   "outputs": [
    {
     "data": {
      "text/plain": [
       "scipy.sparse.csc.csc_matrix"
      ]
     },
     "execution_count": 19,
     "metadata": {},
     "output_type": "execute_result"
    }
   ],
   "source": [
    "type(a1.T)#転置するとcsrとcscが反転する。"
   ]
  },
  {
   "cell_type": "code",
   "execution_count": 17,
   "metadata": {},
   "outputs": [
    {
     "data": {
      "text/plain": [
       "scipy.sparse.csr.csr_matrix"
      ]
     },
     "execution_count": 17,
     "metadata": {},
     "output_type": "execute_result"
    }
   ],
   "source": [
    "type(a2.T)"
   ]
  },
  {
   "cell_type": "code",
   "execution_count": null,
   "metadata": {},
   "outputs": [],
   "source": []
  }
 ],
 "metadata": {
  "kernelspec": {
   "display_name": "Python 3",
   "language": "python",
   "name": "python3"
  },
  "language_info": {
   "codemirror_mode": {
    "name": "ipython",
    "version": 3
   },
   "file_extension": ".py",
   "mimetype": "text/x-python",
   "name": "python",
   "nbconvert_exporter": "python",
   "pygments_lexer": "ipython3",
   "version": "3.6.5"
  }
 },
 "nbformat": 4,
 "nbformat_minor": 4
}
